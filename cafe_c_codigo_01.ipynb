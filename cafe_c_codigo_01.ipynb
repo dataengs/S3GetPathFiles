{
  "nbformat": 4,
  "nbformat_minor": 0,
  "metadata": {
    "colab": {
      "name": "cafe_c_codigo_01.ipynb",
      "provenance": [],
      "authorship_tag": "ABX9TyO3QyewnO1qepndGhDGqTwS",
      "include_colab_link": true
    },
    "kernelspec": {
      "name": "python3",
      "display_name": "Python 3"
    },
    "language_info": {
      "name": "python"
    }
  },
  "cells": [
    {
      "cell_type": "markdown",
      "metadata": {
        "id": "view-in-github",
        "colab_type": "text"
      },
      "source": [
        "<a href=\"https://colab.research.google.com/github/matsilvestre/S3GetPathFiles/blob/main/cafe_c_codigo_01.ipynb\" target=\"_parent\"><img src=\"https://colab.research.google.com/assets/colab-badge.svg\" alt=\"Open In Colab\"/></a>"
      ]
    },
    {
      "cell_type": "markdown",
      "metadata": {
        "id": "uQ74agLOvw1T"
      },
      "source": [
        "# Bicliotecas"
      ]
    },
    {
      "cell_type": "code",
      "metadata": {
        "id": "O-WEMGQnvwCn"
      },
      "source": [
        "from google.colab import drive\n",
        "import pandas as pd\n",
        "from pyspark.sql import SparkSession\n",
        "from pyspark.sql import functions  as F"
      ],
      "execution_count": null,
      "outputs": []
    },
    {
      "cell_type": "code",
      "metadata": {
        "id": "X2kYsLXkv4q7"
      },
      "source": [
        ""
      ],
      "execution_count": null,
      "outputs": []
    },
    {
      "cell_type": "markdown",
      "metadata": {
        "id": "4p-bA6x0v4z7"
      },
      "source": [
        "# Configurando Google Drive"
      ]
    },
    {
      "cell_type": "code",
      "metadata": {
        "colab": {
          "base_uri": "https://localhost:8080/"
        },
        "id": "Eutq9v3frXnn",
        "outputId": "52a8b4b5-dcd1-4add-adb0-eff168134f5d"
      },
      "source": [
        "drive.mount('/content/drive')"
      ],
      "execution_count": 3,
      "outputs": [
        {
          "output_type": "stream",
          "text": [
            "Mounted at /content/drive\n"
          ],
          "name": "stdout"
        }
      ]
    },
    {
      "cell_type": "code",
      "metadata": {
        "id": "fL82I6gvv9A9"
      },
      "source": [
        ""
      ],
      "execution_count": null,
      "outputs": []
    },
    {
      "cell_type": "markdown",
      "metadata": {
        "id": "QeH3WdVev9OD"
      },
      "source": [
        "# Criando Sessão Spark"
      ]
    },
    {
      "cell_type": "code",
      "metadata": {
        "id": "NAT3LYv6sx-8"
      },
      "source": [
        "spark = SparkSession.builder.appName('NBO').getOrCreate()"
      ],
      "execution_count": 14,
      "outputs": []
    },
    {
      "cell_type": "code",
      "metadata": {
        "id": "sbV0mk84wJYL"
      },
      "source": [
        ""
      ],
      "execution_count": null,
      "outputs": []
    },
    {
      "cell_type": "markdown",
      "metadata": {
        "id": "k1I90DROwJe-"
      },
      "source": [
        "# Lendo arquivo do google drive"
      ]
    },
    {
      "cell_type": "code",
      "metadata": {
        "id": "ewKEI3JXtM-J"
      },
      "source": [
        "df = spark.read.csv('/content/drive/My Drive/cafe_c_codigo_01/marketing_campaign.csv', header = True, sep=';')"
      ],
      "execution_count": 18,
      "outputs": []
    },
    {
      "cell_type": "code",
      "metadata": {
        "colab": {
          "base_uri": "https://localhost:8080/"
        },
        "id": "JXDXpu33tbyi",
        "outputId": "2f834838-ff92-4048-c998-aea91a443a97"
      },
      "source": [
        "df.show(10)"
      ],
      "execution_count": 19,
      "outputs": [
        {
          "output_type": "stream",
          "text": [
            "+----+----------+----------+--------------+------+-------+--------+-----------+-------+--------+---------+---------------+---------------+----------------+------------+-----------------+---------------+-------------------+-----------------+-----------------+------------+------------+------------+------------+------------+--------+-------------+---------+--------+\n",
            "|  ID|Year_Birth| Education|Marital_Status|Income|Kidhome|Teenhome|Dt_Customer|Recency|MntWines|MntFruits|MntMeatProducts|MntFishProducts|MntSweetProducts|MntGoldProds|NumDealsPurchases|NumWebPurchases|NumCatalogPurchases|NumStorePurchases|NumWebVisitsMonth|AcceptedCmp3|AcceptedCmp4|AcceptedCmp5|AcceptedCmp1|AcceptedCmp2|Complain|Z_CostContact|Z_Revenue|Response|\n",
            "+----+----------+----------+--------------+------+-------+--------+-----------+-------+--------+---------+---------------+---------------+----------------+------------+-----------------+---------------+-------------------+-----------------+-----------------+------------+------------+------------+------------+------------+--------+-------------+---------+--------+\n",
            "|5524|      1957|Graduation|        Single| 58138|      0|       0| 2012-09-04|     58|     635|       88|            546|            172|              88|          88|                3|              8|                 10|                4|                7|           0|           0|           0|           0|           0|       0|            3|       11|       1|\n",
            "|2174|      1954|Graduation|        Single| 46344|      1|       1| 2014-03-08|     38|      11|        1|              6|              2|               1|           6|                2|              1|                  1|                2|                5|           0|           0|           0|           0|           0|       0|            3|       11|       0|\n",
            "|4141|      1965|Graduation|      Together| 71613|      0|       0| 2013-08-21|     26|     426|       49|            127|            111|              21|          42|                1|              8|                  2|               10|                4|           0|           0|           0|           0|           0|       0|            3|       11|       0|\n",
            "|6182|      1984|Graduation|      Together| 26646|      1|       0| 2014-02-10|     26|      11|        4|             20|             10|               3|           5|                2|              2|                  0|                4|                6|           0|           0|           0|           0|           0|       0|            3|       11|       0|\n",
            "|5324|      1981|       PhD|       Married| 58293|      1|       0| 2014-01-19|     94|     173|       43|            118|             46|              27|          15|                5|              5|                  3|                6|                5|           0|           0|           0|           0|           0|       0|            3|       11|       0|\n",
            "|7446|      1967|    Master|      Together| 62513|      0|       1| 2013-09-09|     16|     520|       42|             98|              0|              42|          14|                2|              6|                  4|               10|                6|           0|           0|           0|           0|           0|       0|            3|       11|       0|\n",
            "| 965|      1971|Graduation|      Divorced| 55635|      0|       1| 2012-11-13|     34|     235|       65|            164|             50|              49|          27|                4|              7|                  3|                7|                6|           0|           0|           0|           0|           0|       0|            3|       11|       0|\n",
            "|6177|      1985|       PhD|       Married| 33454|      1|       0| 2013-05-08|     32|      76|       10|             56|              3|               1|          23|                2|              4|                  0|                4|                8|           0|           0|           0|           0|           0|       0|            3|       11|       0|\n",
            "|4855|      1974|       PhD|      Together| 30351|      1|       0| 2013-06-06|     19|      14|        0|             24|              3|               3|           2|                1|              3|                  0|                2|                9|           0|           0|           0|           0|           0|       0|            3|       11|       1|\n",
            "|5899|      1950|       PhD|      Together|  5648|      1|       1| 2014-03-13|     68|      28|        0|              6|              1|               1|          13|                1|              1|                  0|                0|               20|           1|           0|           0|           0|           0|       0|            3|       11|       0|\n",
            "+----+----------+----------+--------------+------+-------+--------+-----------+-------+--------+---------+---------------+---------------+----------------+------------+-----------------+---------------+-------------------+-----------------+-----------------+------------+------------+------------+------------+------------+--------+-------------+---------+--------+\n",
            "only showing top 10 rows\n",
            "\n"
          ],
          "name": "stdout"
        }
      ]
    },
    {
      "cell_type": "markdown",
      "metadata": {
        "id": "ZwwmJdChxEm7"
      },
      "source": [
        "# Informações sobre a base de dados"
      ]
    },
    {
      "cell_type": "markdown",
      "metadata": {
        "id": "dfRIbN1QxKrX"
      },
      "source": [
        "Context\n",
        "A response model can provide a significant boost to the efficiency of a marketing campaign by increasing responses or reducing expenses. The objective is to predict who will respond to an offer for a product or service\n",
        "\n",
        "Content\n",
        " - AcceptedCmp1 - 1 if customer accepted the offer in the 1st campaign, 0 otherwise\n",
        " - AcceptedCmp2 - 1 if customer accepted the offer in the 2nd campaign, 0 otherwise\n",
        " - AcceptedCmp3 - 1 if customer accepted the offer in the 3rd campaign, 0 otherwise\n",
        " - AcceptedCmp4 - 1 if customer accepted the offer in the 4th campaign, 0 otherwise\n",
        " - AcceptedCmp5 - 1 if customer accepted the offer in the 5th campaign, 0 otherwise\n",
        " - Response (target) - 1 if customer accepted the offer in the last campaign, 0 otherwise\n",
        " - Complain - 1 if customer complained in the last 2 years\n",
        " - DtCustomer - date of customer’s enrolment with the company\n",
        " - Education - customer’s level of education\n",
        " - Marital - customer’s marital status\n",
        " - Kidhome - number of small children in customer’s household\n",
        " - Teenhome - number of teenagers in customer’s household\n",
        " - Income - customer’s yearly household income\n",
        " - MntFishProducts - amount spent on fish products in the last 2 years\n",
        " - MntMeatProducts - amount spent on meat products in the last 2 years\n",
        " - MntFruits - amount spent on fruits products in the last 2 years\n",
        " - MntSweetProducts - amount spent on sweet products in the last 2 years\n",
        " - MntWines - amount spent on wine products in the last 2 years\n",
        " - MntGoldProds - amount spent on gold products in the last 2 years\n",
        " - NumDealsPurchases - number of purchases made with discount\n",
        " - NumCatalogPurchases - number of purchases made using catalogue\n",
        " - NumStorePurchases - number of purchases made directly in stores\n",
        " - NumWebPurchases - number of purchases made through company’s web site\n",
        " - NumWebVisitsMonth - number of visits to company’s web site in the last month\n",
        " - Recency - number of days since the last purchase"
      ]
    },
    {
      "cell_type": "markdown",
      "metadata": {
        "id": "XUjTgJDiwjJP"
      },
      "source": [
        "# Exploração dos dados"
      ]
    },
    {
      "cell_type": "code",
      "metadata": {
        "id": "QppzrU6vwnT2"
      },
      "source": [
        ""
      ],
      "execution_count": null,
      "outputs": []
    }
  ]
}